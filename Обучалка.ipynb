{
  "nbformat": 4,
  "nbformat_minor": 0,
  "metadata": {
    "colab": {
      "name": "Обучалка.ipynb",
      "provenance": [],
      "authorship_tag": "ABX9TyMonGkzUXNbUzWGUC5L8T57"
    },
    "kernelspec": {
      "name": "python3",
      "display_name": "Python 3"
    },
    "language_info": {
      "name": "python"
    }
  },
  "cells": [
    {
      "cell_type": "markdown",
      "metadata": {
        "id": "tF3wil6FkZrC"
      },
      "source": [
        "Необходимые импорты"
      ]
    },
    {
      "cell_type": "code",
      "metadata": {
        "id": "T_541WLLtjxl",
        "colab": {
          "base_uri": "https://localhost:8080/"
        },
        "outputId": "b9cf2bb9-a64f-4a57-9e02-689810b20166"
      },
      "source": [
        "import numpy as np\n",
        "import matplotlib.pyplot as plt\n",
        "import numpy.random\n",
        "import random\n",
        "from random import randint\n",
        "from google.colab import drive\n",
        "drive.mount('/content/drive')"
      ],
      "execution_count": 1,
      "outputs": [
        {
          "output_type": "stream",
          "text": [
            "Drive already mounted at /content/drive; to attempt to forcibly remount, call drive.mount(\"/content/drive\", force_remount=True).\n"
          ],
          "name": "stdout"
        }
      ]
    },
    {
      "cell_type": "markdown",
      "metadata": {
        "id": "ms_RITOCkivC"
      },
      "source": [
        "Проверка сохранения файла"
      ]
    },
    {
      "cell_type": "code",
      "metadata": {
        "id": "zbt_2nLYauEv"
      },
      "source": [
        "a = np.array([[1, 2, 3, 4, 5],[0, 2, 3, 3, 2]])\n",
        "\n",
        "with open('/content/drive/My Drive/array.txt', 'w') as f:\n",
        "    np.savetxt(f, a)"
      ],
      "execution_count": 2,
      "outputs": []
    },
    {
      "cell_type": "markdown",
      "metadata": {
        "id": "-YOlmAX6kmxC"
      },
      "source": [
        "Функция, преобразующая строку из 64 чисел в массив 4 на 4 на 4"
      ]
    },
    {
      "cell_type": "code",
      "metadata": {
        "id": "XA_rWjyZxcbx"
      },
      "source": [
        "def line_to_array(pos):\n",
        "    position = (([0, 0, 0, 0], [0, 0, 0, 0], [0, 0, 0, 0], [0, 0, 0, 0]),\n",
        "                ([0, 0, 0, 0], [0, 0, 0, 0], [0, 0, 0, 0], [0, 0, 0, 0]),\n",
        "                ([0, 0, 0, 0], [0, 0, 0, 0], [0, 0, 0, 0], [0, 0, 0, 0]),\n",
        "                ([0, 0, 0, 0], [0, 0, 0, 0], [0, 0, 0, 0], [0, 0, 0, 0]))\n",
        "    \n",
        "    counter = 0\n",
        "\n",
        "    for k in range(4):\n",
        "        for i in range(4):\n",
        "            for j in range(4):\n",
        "                position[k][i][j] = pos[counter]\n",
        "                counter += 1\n",
        "                \n",
        "    return position"
      ],
      "execution_count": 3,
      "outputs": []
    },
    {
      "cell_type": "markdown",
      "metadata": {
        "id": "gPmbnYaHk8eL"
      },
      "source": [
        "Функция проверки победы"
      ]
    },
    {
      "cell_type": "code",
      "metadata": {
        "id": "lzLIPg7YtmKk"
      },
      "source": [
        "def check_win(pos):\n",
        "    if 0 not in pos:\n",
        "        return True\n",
        "\n",
        "    position = line_to_array(pos)\n",
        "    if ((position[0][0][0] == position[1][1][1] == position[2][2][2] == position[3][3][3] != 0) \\\n",
        "        or (position[3][0][0] == position[2][1][1] == position[1][2][2] == position[0][3][3] != 0) \\\n",
        "        or (position[0][0][3] == position[1][1][2] == position[2][2][1] == position[3][3][0] != 0) \\\n",
        "        or (position[0][3][0] == position[1][2][1] == position[2][1][2] == position[3][0][3] != 0)):\n",
        "        return True\n",
        "\n",
        "    for k in range(4):\n",
        "        for i in range(4):\n",
        "            for j in range(4):\n",
        "                if ((position[k][0][0] == position[k][1][1] == position[k][2][2] == position[k][3][3] != 0) \\\n",
        "                    or (position[k][3][0] == position[k][2][1] == position[k][1][2] == position[k][0][3] != 0) \\\n",
        "                    or (position[k][0][j] == position[k][1][j] == position[k][2][j] == position[k][3][j] != 0) \\\n",
        "                    or (position[k][i] == [1, 1, 1, 1]) or (position[k][i] == [-1, -1, -1, -1]) \\\n",
        "                    or (position[0][i][j] == position[1][i][j] == position[2][i][j] == position[3][i][j] != 0) \\\n",
        "                    or (position[0][i][0] == position[1][i][1] == position[2][i][2] == position[3][i][3] != 0) \\\n",
        "                    or (position[3][i][0] == position[2][i][1] == position[1][i][2] == position[0][i][3] != 0) \\\n",
        "                    or (position[0][0][j] == position[1][1][j] == position[2][2][j] == position[3][3][j] != 0) \\\n",
        "                    or (position[3][0][j] == position[2][1][j] == position[1][2][j] == position[0][3][j] != 0)):\n",
        "                    return True\n",
        "\n",
        "    return False"
      ],
      "execution_count": 4,
      "outputs": []
    },
    {
      "cell_type": "code",
      "metadata": {
        "id": "Bb33kjocqVr3"
      },
      "source": [
        "# a = np.zeros(64, dtype=int)"
      ],
      "execution_count": 5,
      "outputs": []
    },
    {
      "cell_type": "code",
      "metadata": {
        "id": "XhrM9Pq4rZH4"
      },
      "source": [
        "# %%timeit\n",
        "# check_win(a)"
      ],
      "execution_count": 6,
      "outputs": []
    },
    {
      "cell_type": "markdown",
      "metadata": {
        "id": "lotNptwJk_on"
      },
      "source": [
        "Константы обучения"
      ]
    },
    {
      "cell_type": "code",
      "metadata": {
        "id": "QAYlRDR0toHw"
      },
      "source": [
        "mutation_chance = 0.1\n",
        "mutation_coef = 0.05\n",
        "mutation_parametr = 0.02\n",
        "cross_chance = 0.9\n",
        "cross_parametr = 0.2\n",
        "population = 256\n",
        "iterations = 20000\n",
        "tournament_count = 4\n",
        "evaluation_precise = 25"
      ],
      "execution_count": 7,
      "outputs": []
    },
    {
      "cell_type": "markdown",
      "metadata": {
        "id": "DZLbbNJ2lCEi"
      },
      "source": [
        "Класс игрока"
      ]
    },
    {
      "cell_type": "code",
      "metadata": {
        "id": "Aq4XYWd8tqIO"
      },
      "source": [
        "class Player:\n",
        "    \"\"\"\n",
        "    Играет в крестики нолики. Может выдавать ход по данной позиции.\n",
        "    Имеет self.weights - матрица 64 на 64 целых чисел, и self.bias - строка 1 на 64 целых чис.\n",
        "    \"\"\"\n",
        "    def __init__(self):\n",
        "        \"\"\"\n",
        "        Инициализирует bias и weights случайными целыми числами.\n",
        "        \"\"\"\n",
        "        self.bias = np.random.randint(-3, 3, 64)\n",
        "        self.weights = np.random.randint(-10, 10, (64, 64))\n",
        "\n",
        "    def mutation(self):\n",
        "        \"\"\"\n",
        "        Изменяет некоторые случйно выбранные числа матрицы weights и строки bias на небольшое число.\n",
        "        \"\"\"\n",
        "        for i in range(64):\n",
        "            if randint(1, 100) <= 100 * mutation_parametr:\n",
        "                self.bias[i] += randint(-2, 2)\n",
        "                if self.bias[i] > 10:\n",
        "                    self.bias[i] = 10\n",
        "                if self.bias[i] < -10:\n",
        "                    self.bias[i] = -10\n",
        "\n",
        "            for j in range(64):\n",
        "                if randint(1, 100) <= 100 * mutation_parametr:\n",
        "                    self.weights[i][j] += randint(-7, 7)\n",
        "                    if self.weights[i][j] > 100:\n",
        "                        self.weights[i][j] = 100\n",
        "                    if self.weights[i][j] < -100:\n",
        "                        self.weights[i][j] = -100\n",
        "\n",
        "    def predict(self, input_values):\n",
        "        return np.dot(input_values, self.weights) + self.bias"
      ],
      "execution_count": 8,
      "outputs": []
    },
    {
      "cell_type": "code",
      "metadata": {
        "id": "k7fd34Y2tsum"
      },
      "source": [
        "def cross_old(parent1, parent2):\n",
        "    \"\"\"\n",
        "    Пример плохого кроссинговера.\n",
        "    arguments:\n",
        "    parent1 и parent2 - родители. Класс Player.\n",
        "    returns:\n",
        "    child - ребенок. Класс Player.\n",
        "    \"\"\"\n",
        "    child = Player()\n",
        "    for i in range(64):\n",
        "        if randint(0, 1) == 1:\n",
        "            child.bias[i] = parent1.bias[i]\n",
        "        else:\n",
        "            child.bias[i] = parent2.bias[i]\n",
        "        for j in range(64):\n",
        "            if randint(0, 1) == 1:\n",
        "                child.weights[i][j] = parent1.weights[i][j]\n",
        "            else:\n",
        "                child.weights[i][j] = parent2.weights[i][j]\n",
        "    return child"
      ],
      "execution_count": 1,
      "outputs": []
    },
    {
      "cell_type": "code",
      "metadata": {
        "id": "UGdesdkOn7Or"
      },
      "source": [
        "def cross(parent1, parent2):\n",
        "    \"\"\"\n",
        "    Кроссинговер.\n",
        "    arguments:\n",
        "    parent1 и parent2 - родители. Класс Player.\n",
        "    returns:\n",
        "    child - ребенок. Класс Player.\n",
        "    \"\"\"\n",
        "    child = Player()\n",
        "    for i in range(64):\n",
        "        if randint(0, 1) == 1:\n",
        "            child.bias[i] = parent1.bias[i]\n",
        "        else:\n",
        "            child.bias[i] = parent2.bias[i]\n",
        "        if randint(0, 1) == 1:\n",
        "            for j in range(64):\n",
        "                child.weights[i][j] = parent1.weights[i][j]\n",
        "        else:\n",
        "            for j in range(64):\n",
        "                child.weights[i][j] = parent2.weights[i][j]\n",
        "    return child"
      ],
      "execution_count": 10,
      "outputs": []
    },
    {
      "cell_type": "code",
      "metadata": {
        "id": "Z_l70-iptu2k"
      },
      "source": [
        "def game(p1, p2):\n",
        "    \"\"\"\n",
        "    Игра между двумя игроками.\n",
        "    arguments:\n",
        "    p1 - игрок за крестиков. Класс Player.\n",
        "    р2 - игрок за ноликов. Класс Player.\n",
        "    returns:\n",
        "    p1 или p2- победитель. Класс Player.\n",
        "    \"\"\"\n",
        "    position = np.zeros(64, dtype = int)\n",
        "    \n",
        "    while not check_win(position):\n",
        "\n",
        "        # X - move\n",
        "        res1 = p1.predict(position)\n",
        "        while position[np.argmax(res1)] != 0:\n",
        "            res1[np.argmax(res1)] = -99999\n",
        "        position[np.argmax(res1)] = 1\n",
        "        if check_win(position):\n",
        "            return p1\n",
        "\n",
        "        # O - move\n",
        "        res2 = p2.predict((-1) * position)\n",
        "        while position[np.argmax(res2)] != 0:\n",
        "            res2[np.argmax(res2)] += -99999\n",
        "        position[np.argmax(res2)] = -1\n",
        "    \n",
        "    return p2"
      ],
      "execution_count": 11,
      "outputs": []
    },
    {
      "cell_type": "code",
      "metadata": {
        "id": "eF6-B18Gtvcw"
      },
      "source": [
        "def game_with_comments (p1, p2):\n",
        "    \"\"\"\n",
        "    Та же game, только с комментариями.\n",
        "    arguments:\n",
        "    p1 - игрок за крестиков. Класс Player.\n",
        "    р2 - игрок за ноликов. Класс Player.\n",
        "    returns:\n",
        "    p1 или p2- победитель. Класс Player.\n",
        "    \"\"\"\n",
        "    position = np.zeros(64)\n",
        "    \n",
        "    while not check_win(position):\n",
        "        res1 = p1.predict(position)\n",
        "        while position[np.argmax(res1)] != 0:\n",
        "            res1[np.argmax(res1)] = -999999\n",
        "        position[np.argmax(res1)] = 1\n",
        "        print('X - ', np.argmax(res1)) #######\n",
        "        if check_win(position):\n",
        "            # print(line_to_array(position))\n",
        "            return p1\n",
        "\n",
        "        res2 = p2.predict((-1) * position)\n",
        "        while position[np.argmax(res2)] != 0:\n",
        "            res2[np.argmax(res2)] += -999999\n",
        "\n",
        "        position[np.argmax(res2)] = -1\n",
        "        print('O - ' ,np.argmax(res2)) #######\n",
        "    \n",
        "    # print(line_to_array(position))\n",
        "    return p2"
      ],
      "execution_count": 12,
      "outputs": []
    },
    {
      "cell_type": "code",
      "metadata": {
        "id": "haslzWnGtzXA"
      },
      "source": [
        "def championship(participants):\n",
        "    \"\"\"\n",
        "    arguments:\n",
        "    participants - участники турнира. Массив экземпляров класса Player.\n",
        "    returns:\n",
        "    winners - победители первого раунда, массив длины половины длины participants экземпляров класса Player.\n",
        "    \"\"\"\n",
        "    length = len(participants)\n",
        "    winners = [Player()] * (length // 2)\n",
        "    counter = 0\n",
        "    place = 0\n",
        "    while counter < length:\n",
        "        winners[place] = game(participants[counter], participants[counter + 1])\n",
        "        place += 1\n",
        "        counter += 2\n",
        "    return winners"
      ],
      "execution_count": 13,
      "outputs": []
    },
    {
      "cell_type": "code",
      "metadata": {
        "id": "zMV4cvmot16N"
      },
      "source": [
        "def evaluate(gamer_):\n",
        "    \"\"\"\n",
        "    Измерение качества данного игрока (процент побед против случайных ходов и среднее кол-во ходов).\n",
        "    arguments:\n",
        "    gamer_ - игрок на оценку. Класс Player.\n",
        "    returns:\n",
        "    wins * 2 - процент побед. Тип int\n",
        "    round(moves / 50, 2) - среднее кол-во ходов. Тип float\n",
        "    \"\"\"\n",
        "    wins = 0\n",
        "    moves = 0\n",
        "    for i in range(25):\n",
        "        position = np.zeros(64)\n",
        "    \n",
        "        while not check_win(position):\n",
        "\n",
        "            # X_random - move\n",
        "            res1 = randint(0, 63)\n",
        "            while position[res1] != 0:\n",
        "                res1 = randint(0, 63)\n",
        "            position[res1] = 1\n",
        "            moves += 1\n",
        "            if check_win(position):\n",
        "                break\n",
        "\n",
        "            # O - move\n",
        "            res2 = gamer_.predict((-1) * position)\n",
        "            while position[np.argmax(res2)] != 0:\n",
        "                res2[np.argmax(res2)] += -99999\n",
        "            position[np.argmax(res2)] = -1\n",
        "            moves += 1\n",
        "            if check_win(position):\n",
        "                wins += 1\n",
        "                break\n",
        "\n",
        "        position = np.zeros(64)\n",
        "        \n",
        "        while not check_win(position):\n",
        "\n",
        "            # X - move\n",
        "            res1 = gamer_.predict(position)\n",
        "            while position[np.argmax(res1)] != 0:\n",
        "                res1[np.argmax(res1)] += -99999\n",
        "            position[np.argmax(res1)] = 1\n",
        "            moves += 1\n",
        "            if check_win(position):\n",
        "                wins += 1\n",
        "                break\n",
        "\n",
        "            # O_random - move\n",
        "            res2 = randint(0, 63)\n",
        "            while position[res2] != 0:\n",
        "                res2 = randint(0, 63)\n",
        "            position[res2] = -1\n",
        "            moves += 1\n",
        "            if check_win(position):\n",
        "                break\n",
        "    \n",
        "    return wins * 2, round(moves / 50, 2)\n"
      ],
      "execution_count": 14,
      "outputs": []
    },
    {
      "cell_type": "code",
      "metadata": {
        "id": "vH2NBW7_t3jN"
      },
      "source": [
        "def iteration(gamers):\n",
        "    \"\"\"\n",
        "    Осуществляет одну итерацию обучения.\n",
        "    arguments:\n",
        "    gamers - массив экземпляров класса Player длинны population.\n",
        "    returns:\n",
        "    gamers2 - массив той же длины, готовый ко второй итерации. \n",
        "    \"\"\"\n",
        "    gamers2 = [0] * population\n",
        "    gamers2[0:population // 2] = championship(gamers)\n",
        "    count = population // 2\n",
        "    while count < population:\n",
        "        gamers2[count] = cross(gamers2[randint(0, population // 2 - 1)], gamers2[randint(0, population // 2 - 1)])\n",
        "        count += 1\n",
        "    \n",
        "    for individ in gamers2:\n",
        "        if randint(1, 100) < mutation_chance * 100:\n",
        "            individ.mutation()\n",
        "    \n",
        "    return gamers2"
      ],
      "execution_count": 15,
      "outputs": []
    },
    {
      "cell_type": "code",
      "metadata": {
        "id": "lQxQp7Kzt5v1"
      },
      "source": [
        "def chose_best(players):\n",
        "    \"\"\"\n",
        "    Вычисляет двух лучших игроков путем турнира на выбывание.\n",
        "    arguments:\n",
        "    players - массив игроков длинны population. Типы Player\n",
        "    returns - массив из двух игроков. Тип Player\n",
        "    \"\"\"\n",
        "    n = len(players)\n",
        "    while n > 2:\n",
        "        n = n // 2\n",
        "        for i in range(n):\n",
        "            players[i] = game(players[i], players[-1 - i - len(players) + 2 * n])\n",
        "    return [players[0], players[1]]"
      ],
      "execution_count": 16,
      "outputs": []
    },
    {
      "cell_type": "code",
      "metadata": {
        "id": "Zy3iiA56hdq4"
      },
      "source": [
        "def write_to_file(_player1, _player2):\n",
        "    \"\"\"\n",
        "    Записывает в файл двух игроков.\n",
        "    arguments:\n",
        "    _player1 - первый Player.\n",
        "    _player2 - второй Player.\n",
        "    \"\"\"\n",
        "    with open('/content/drive/My Drive/better_player1_weights.txt', 'w') as f:\n",
        "        np.savetxt(f, _player1.weights, fmt = '%3d')\n",
        "    with open('/content/drive/My Drive/better_player1_bias.txt', 'w') as f:\n",
        "        np.savetxt(f, _player1.bias, fmt = '%3d')\n",
        "\n",
        "    with open('/content/drive/My Drive/better_player2_weights.txt', 'w') as f:\n",
        "        np.savetxt(f, _player2.weights, fmt = '%3d')\n",
        "    with open('/content/drive/My Drive/better_player2_bias.txt', 'w') as f:\n",
        "        np.savetxt(f, _player2.bias, fmt = '%3d')"
      ],
      "execution_count": 17,
      "outputs": []
    },
    {
      "cell_type": "markdown",
      "metadata": {
        "id": "L9AkiPA6qUlY"
      },
      "source": [
        "Собственно цикл обучения"
      ]
    },
    {
      "cell_type": "code",
      "metadata": {
        "colab": {
          "base_uri": "https://localhost:8080/"
        },
        "id": "2hYhKvgot828",
        "outputId": "fa9e88e6-3580-435d-8d04-95e8bfe01382"
      },
      "source": [
        "boys = []\n",
        "for sosi in range(population):\n",
        "    boys.append(Player())\n",
        "\n",
        "winrate_for_plot = [0] * iterations\n",
        "moves_for_plot = [0] * iterations\n",
        "\n",
        "for i in range(iterations):\n",
        "    if i % 1000 == 0:\n",
        "        print(\"Iteration\", i + 1, '...')\n",
        "        best = chose_best(boys)\n",
        "        game_with_comments(best[1], best[0])\n",
        "        write_to_file(best[0], best[1])\n",
        "        \n",
        "    random.shuffle(boys)\n",
        "    boys = iteration(boys)\n",
        "    # quality = [0] * 4\n",
        "    # for u in range(4):\n",
        "    #     quality[u] = evaluate(boys[randint(0, population - 1)])\n",
        "    #     winrate_for_plot[i] += quality[u][0]\n",
        "    #     moves_for_plot[i] += quality[u][1]\n",
        "    \n",
        "    # winrate_for_plot[i] /= 4\n",
        "    # moves_for_plot[i] /= 4\n",
        "    # print(\"Winrate on iteration\", i + 1, winrate_for_plot[i])\n",
        "    # print(\"Moves on iteration\", i + 1, round(moves_for_plot[i], 2))"
      ],
      "execution_count": null,
      "outputs": [
        {
          "output_type": "stream",
          "text": [
            "Iteration 1 ...\n",
            "X -  8\n",
            "O -  14\n",
            "X -  30\n",
            "O -  3\n",
            "X -  62\n",
            "O -  33\n",
            "X -  18\n",
            "O -  17\n",
            "X -  16\n",
            "O -  57\n",
            "X -  19\n",
            "O -  13\n",
            "X -  0\n",
            "O -  26\n",
            "X -  21\n",
            "O -  9\n",
            "X -  25\n",
            "O -  49\n",
            "X -  27\n",
            "O -  23\n",
            "X -  22\n",
            "O -  34\n",
            "X -  54\n",
            "O -  12\n",
            "X -  42\n",
            "O -  28\n",
            "X -  4\n",
            "O -  58\n",
            "X -  53\n",
            "O -  60\n",
            "X -  31\n",
            "O -  56\n",
            "X -  50\n",
            "O -  35\n",
            "X -  55\n",
            "O -  44\n",
            "Iteration 1001 ...\n",
            "X -  19\n",
            "O -  1\n",
            "X -  4\n",
            "O -  40\n",
            "X -  47\n",
            "O -  42\n",
            "X -  22\n",
            "O -  13\n",
            "X -  25\n",
            "O -  59\n",
            "X -  6\n",
            "O -  8\n",
            "X -  36\n",
            "O -  37\n",
            "X -  21\n",
            "O -  9\n",
            "X -  45\n",
            "O -  14\n",
            "X -  2\n",
            "O -  43\n",
            "X -  61\n",
            "O -  35\n",
            "X -  28\n",
            "Iteration 2001 ...\n",
            "X -  8\n",
            "O -  37\n",
            "X -  10\n",
            "O -  34\n",
            "X -  46\n",
            "O -  40\n",
            "X -  11\n",
            "O -  0\n",
            "X -  58\n",
            "O -  15\n",
            "X -  6\n",
            "O -  21\n",
            "X -  62\n",
            "O -  12\n",
            "X -  50\n",
            "O -  39\n",
            "X -  44\n",
            "O -  35\n",
            "X -  19\n",
            "O -  13\n",
            "X -  14\n",
            "O -  22\n",
            "X -  28\n",
            "O -  53\n",
            "X -  26\n",
            "O -  5\n",
            "Iteration 3001 ...\n",
            "X -  29\n",
            "O -  7\n",
            "X -  10\n",
            "O -  53\n",
            "X -  11\n",
            "O -  31\n",
            "X -  9\n",
            "O -  46\n",
            "X -  48\n",
            "O -  38\n",
            "X -  41\n",
            "O -  54\n",
            "X -  60\n",
            "O -  61\n",
            "X -  3\n",
            "O -  21\n",
            "X -  12\n",
            "O -  45\n",
            "X -  35\n",
            "O -  19\n",
            "X -  22\n",
            "Iteration 4001 ...\n",
            "X -  29\n",
            "O -  22\n",
            "X -  8\n",
            "O -  34\n",
            "X -  39\n",
            "O -  49\n",
            "X -  11\n",
            "O -  42\n",
            "X -  56\n",
            "O -  38\n",
            "X -  9\n",
            "O -  15\n",
            "X -  60\n",
            "O -  59\n",
            "X -  3\n",
            "O -  21\n",
            "X -  10\n",
            "Iteration 5001 ...\n",
            "X -  10\n",
            "O -  59\n",
            "X -  29\n",
            "O -  7\n",
            "X -  8\n",
            "O -  54\n",
            "X -  60\n",
            "O -  37\n",
            "X -  39\n",
            "O -  48\n",
            "X -  9\n",
            "O -  47\n",
            "X -  11\n",
            "Iteration 6001 ...\n",
            "X -  10\n",
            "O -  59\n",
            "X -  29\n",
            "O -  7\n",
            "X -  8\n",
            "O -  34\n",
            "X -  11\n",
            "O -  38\n",
            "X -  56\n",
            "O -  43\n",
            "X -  63\n",
            "O -  23\n",
            "X -  58\n",
            "O -  53\n",
            "X -  44\n",
            "O -  20\n",
            "X -  2\n",
            "O -  17\n",
            "X -  14\n",
            "O -  0\n",
            "X -  49\n",
            "O -  45\n",
            "X -  15\n",
            "O -  37\n",
            "X -  27\n",
            "O -  33\n",
            "X -  32\n",
            "O -  21\n",
            "X -  18\n",
            "O -  41\n",
            "Iteration 7001 ...\n",
            "X -  10\n",
            "O -  59\n",
            "X -  11\n",
            "O -  43\n",
            "X -  9\n",
            "O -  16\n",
            "X -  3\n",
            "O -  7\n",
            "X -  29\n",
            "O -  54\n",
            "X -  60\n",
            "O -  38\n",
            "X -  8\n",
            "Iteration 8001 ...\n",
            "X -  22\n",
            "O -  8\n",
            "X -  34\n",
            "O -  60\n",
            "X -  53\n",
            "O -  45\n",
            "X -  38\n",
            "O -  9\n",
            "X -  32\n",
            "O -  11\n",
            "X -  43\n",
            "O -  61\n",
            "X -  42\n",
            "O -  50\n",
            "X -  24\n",
            "O -  48\n",
            "X -  15\n",
            "O -  26\n",
            "X -  5\n",
            "O -  27\n",
            "X -  31\n",
            "O -  36\n",
            "X -  17\n",
            "O -  44\n",
            "X -  35\n",
            "O -  16\n",
            "X -  10\n",
            "O -  49\n",
            "X -  23\n",
            "O -  7\n",
            "X -  6\n",
            "O -  51\n",
            "Iteration 9001 ...\n",
            "X -  8\n",
            "O -  1\n",
            "X -  10\n",
            "O -  34\n",
            "X -  11\n",
            "O -  23\n",
            "X -  63\n",
            "O -  21\n",
            "X -  25\n",
            "O -  55\n",
            "X -  50\n",
            "O -  38\n",
            "X -  46\n",
            "O -  15\n",
            "X -  6\n",
            "O -  59\n",
            "X -  9\n",
            "Iteration 10001 ...\n",
            "X -  8\n",
            "O -  1\n",
            "X -  10\n",
            "O -  34\n",
            "X -  11\n",
            "O -  23\n",
            "X -  9\n",
            "Iteration 11001 ...\n",
            "X -  8\n",
            "O -  1\n",
            "X -  10\n",
            "O -  22\n",
            "X -  60\n",
            "O -  57\n",
            "X -  13\n",
            "O -  14\n",
            "X -  5\n",
            "O -  49\n",
            "X -  11\n",
            "O -  42\n",
            "X -  50\n",
            "O -  41\n",
            "X -  9\n",
            "Iteration 12001 ...\n",
            "X -  8\n",
            "O -  3\n",
            "X -  10\n",
            "O -  22\n",
            "X -  11\n",
            "O -  16\n",
            "X -  60\n",
            "O -  0\n",
            "X -  9\n",
            "Iteration 13001 ...\n",
            "X -  8\n",
            "O -  22\n",
            "X -  60\n",
            "O -  53\n",
            "X -  11\n",
            "O -  55\n",
            "X -  50\n",
            "O -  38\n",
            "X -  9\n",
            "O -  32\n",
            "X -  10\n",
            "Iteration 14001 ...\n",
            "X -  8\n",
            "O -  22\n",
            "X -  11\n",
            "O -  42\n",
            "X -  60\n",
            "O -  43\n",
            "X -  50\n",
            "O -  38\n",
            "X -  51\n",
            "O -  34\n",
            "X -  9\n",
            "O -  31\n",
            "X -  10\n"
          ],
          "name": "stdout"
        }
      ]
    },
    {
      "cell_type": "code",
      "metadata": {
        "id": "4PnwHTZ6t_dv"
      },
      "source": [
        "best = chose_best(boys)\n",
        "game_with_comments(best[1], best[0])\n",
        "print(best[1].weights)\n",
        "print(best[0].weights)"
      ],
      "execution_count": null,
      "outputs": []
    },
    {
      "cell_type": "code",
      "metadata": {
        "id": "fbyE6vV76PET"
      },
      "source": [
        "print(best[0].bias)"
      ],
      "execution_count": null,
      "outputs": []
    },
    {
      "cell_type": "code",
      "metadata": {
        "id": "XYuCkIhabkqp"
      },
      "source": [
        ""
      ],
      "execution_count": null,
      "outputs": []
    },
    {
      "cell_type": "code",
      "metadata": {
        "id": "ULvbjRd7fecT"
      },
      "source": [
        "a = Player()\n",
        "with open('/content/drive/My Drive/_player1_weights.txt', 'r') as f:\n",
        "    a.weights = np.loadtxt(f)\n",
        "with open('/content/drive/My Drive/_player1_bias.txt', 'r') as f:\n",
        "    a.bias = np.loadtxt(f)\n",
        "\n",
        "game_with_comments(a, a)"
      ],
      "execution_count": null,
      "outputs": []
    }
  ]
}