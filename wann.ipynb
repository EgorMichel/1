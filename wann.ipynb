{
  "nbformat": 4,
  "nbformat_minor": 0,
  "metadata": {
    "colab": {
      "name": "wann.ipynb",
      "provenance": [],
      "authorship_tag": "ABX9TyPLpep1yfZ01b0lJwvrlJix"
    },
    "kernelspec": {
      "display_name": "Python 3",
      "name": "python3"
    },
    "language_info": {
      "name": "python"
    },
    "accelerator": "GPU"
  },
  "cells": [
    {
      "cell_type": "markdown",
      "metadata": {
        "id": "4TumW9DpD0z5"
      },
      "source": [
        "Imports"
      ]
    },
    {
      "cell_type": "code",
      "metadata": {
        "id": "U4VuZHEMHsfN"
      },
      "source": [
        "import numpy as np\n",
        "import matplotlib.pyplot as plt\n",
        "import matplotlib.ticker as ticker\n",
        "import numpy.random\n",
        "import random\n",
        "from random import randint\n",
        "import math\n",
        "import copy"
      ],
      "execution_count": null,
      "outputs": []
    },
    {
      "cell_type": "markdown",
      "metadata": {
        "id": "sbtARhfREHMZ"
      },
      "source": [
        "Разные функции для использования в Node"
      ]
    },
    {
      "cell_type": "code",
      "metadata": {
        "id": "n_MlPElNPS6D"
      },
      "source": [
        "identity = lambda x: x\n",
        "isrlu = lambda x: (x / (math.sqrt(1 + x**2)) if (x < 0) else x)\n",
        "bent_identity = lambda x: ((math.sqrt(x**2 + 1) - 1) / 2) + x\n",
        "th = lambda x: math.tanh(x)\n",
        "arctg = lambda x: math.atan(x)\n",
        "softsign = lambda x: x / (1 + math.fabs(x))\n",
        "isru = lambda x: x / math.sqrt(1 + x**2)\n",
        "relu = lambda x: 0 if (x < 0) else x\n",
        "leaky_relu = lambda x: (x * 0.01) if (x < 0) else x\n",
        "softplus = lambda x: np.log(1 + np.exp(x))\n",
        "step = lambda x: 0 if (x < 0) else 1\n",
        "logistic = lambda x: 1 / (1 + np.exp(-x))\n",
        "sinus = lambda x: math.sin(x)\n",
        "cosinus = lambda x: math.cos(x)\n",
        "sigmoid = lambda x: (1 / (1 + np.exp(-x))) * x\n",
        "gauss = lambda x: np.exp(-(x**2))\n",
        "sinc = lambda x: 1 if (x == 0) else math.sin(x) / x\n",
        "inverse = lambda x: -x\n",
        "absolute = lambda x: math.fabs(x)"
      ],
      "execution_count": null,
      "outputs": []
    },
    {
      "cell_type": "markdown",
      "metadata": {
        "id": "OqXYNweCEPkm"
      },
      "source": [
        "Массив функций"
      ]
    },
    {
      "cell_type": "code",
      "metadata": {
        "colab": {
          "base_uri": "https://localhost:8080/"
        },
        "id": "S1CYOkTtKesN",
        "outputId": "c1cb8f40-a7ad-4d97-f31a-abbe1a6581c7"
      },
      "source": [
        "# functions = [identity, isrlu, bent_identity, th, arctg, softsign, isru, relu, leaky_relu,\n",
        "#              softplus, step, logistic, sinus, cosinus, sigmoid, gauss, sinc, inverse, absolute]\n",
        "colors = ['black', 'deeppink', 'orange', 'green', 'blue', 'yellow', 'violet', 'salmon', 'pink', 'orangered', 'lime', 'olive', 'teal', 'lightcyan']\n",
        "functions = [identity, step, sinus, cosinus, gauss, th, sigmoid, inverse, absolute, relu]\n",
        "print(len(functions))"
      ],
      "execution_count": null,
      "outputs": [
        {
          "output_type": "stream",
          "text": [
            "10\n"
          ],
          "name": "stdout"
        }
      ]
    },
    {
      "cell_type": "markdown",
      "metadata": {
        "id": "FkSbnVwOESa1"
      },
      "source": [
        "Класс Node.\n",
        " \n",
        "Параметры: \n",
        "layer - слой, на который будет помещен данный экземпляр\n",
        "foo - функция активации\n",
        "\n",
        "Методы:\n",
        "run - добавляет к каждому ноду из next собственную сумму, пропущенную через функцию активации и умноженную на weight\n"
      ]
    },
    {
      "cell_type": "code",
      "metadata": {
        "id": "TAVg2KfdVxEy"
      },
      "source": [
        "class Node:\n",
        "    \"\"\"\n",
        "    Класс Node.\n",
        "    Параметры: \n",
        "    layer - слой, на который будет помещен данный экземпляр\n",
        "    foo - функция активации\n",
        "    \"\"\"\n",
        "    def __init__(self, layer=0, foo=identity):\n",
        "        self.layer = layer\n",
        "        self.sum = 0\n",
        "        self.foo = foo\n",
        "        self.next = []\n",
        "        self.pos = 0\n",
        "    \n",
        "    def run(self, weight):\n",
        "        \"\"\"\n",
        "        Параметры:\n",
        "        weight - вес\n",
        "        Добавляет к каждому ноду из next собственную сумму, пропущенную через функцию активации и умноженную на weight\n",
        "        \"\"\"\n",
        "        try:\n",
        "            value = self.foo(self.sum) * weight\n",
        "        except OverflowError:\n",
        "            value = int(0)\n",
        "        for one in self.next:\n",
        "            one.sum += value"
      ],
      "execution_count": null,
      "outputs": []
    },
    {
      "cell_type": "code",
      "metadata": {
        "colab": {
          "base_uri": "https://localhost:8080/"
        },
        "id": "KgbRAbkD6mQe",
        "outputId": "723b4aae-ca0c-4560-f422-7208393b79f9"
      },
      "source": [
        "a = 100\n",
        "b = a\n",
        "b += 1\n",
        "print(b, a)"
      ],
      "execution_count": null,
      "outputs": [
        {
          "output_type": "stream",
          "text": [
            "101 100\n"
          ],
          "name": "stdout"
        }
      ]
    },
    {
      "cell_type": "code",
      "metadata": {
        "id": "CrvX2NezmUTT"
      },
      "source": [
        "class Neyro:\n",
        "    def __init__(self):\n",
        "        self.connections = 64\n",
        "        self.nodes = []\n",
        "        self.max_layer = 1\n",
        "        self.score = 64\n",
        "        self.games_played = 0\n",
        "\n",
        "        # filling an array of nodes\n",
        "        for layer_ in range(2):\n",
        "            for shhh in range(64):\n",
        "                self.nodes.append(Node(layer_))\n",
        "\n",
        "        # connect each output node with random amount of input nodes\n",
        "        for i in range(64):\n",
        "            temp = randint(0, 63)\n",
        "            if self.nodes[64 + i] not in self.nodes[temp].next:\n",
        "                self.nodes[temp].next.append(self.nodes[64 + i])\n",
        "            \n",
        "    def add_node(self):\n",
        "        self.connections += 1\n",
        "        self.score += 1\n",
        "\n",
        "        # chose first node\n",
        "        first = self.nodes[randint(0, len(self.nodes) - 1)]\n",
        "        while first.layer == self.max_layer or len(first.next) == 0:\n",
        "            first = self.nodes[randint(0, len(self.nodes) - 1)]\n",
        "\n",
        "        # chose second node\n",
        "        second = first.next[randint(0, len(first.next) - 1)]\n",
        "        # assert second in self.nodes\n",
        "\n",
        "        third = Node(foo=random.choice(functions))\n",
        "        if second.layer - first.layer == 1:\n",
        "            c = second.layer\n",
        "            for node in self.nodes:\n",
        "                if node.layer >= c:\n",
        "                    node.layer += 1\n",
        "            third.layer = c\n",
        "            self.max_layer += 1\n",
        "\n",
        "        else:\n",
        "            third.layer = first.layer + 1\n",
        "\n",
        "        third.next.append(second)\n",
        "        first.next.remove(second)\n",
        "        first.next.append(third)\n",
        "        self.nodes.append(third)\n",
        "\n",
        "    def add_connection(self):\n",
        "        self.connections += 1\n",
        "        self.score += 1\n",
        "\n",
        "        first = self.nodes[randint(0, len(self.nodes) - 1)]\n",
        "\n",
        "        second = self.nodes[randint(0, len(self.nodes) - 1)]\n",
        "        while second.layer == first.layer or (second in first.next) or (first in second.next):\n",
        "            second = self.nodes[randint(0, len(self.nodes) - 1)]\n",
        "\n",
        "        if second.layer > first.layer:\n",
        "            first.next.append(second)\n",
        "        else:\n",
        "            second.next.append(first)\n",
        "\n",
        "\n",
        "    def change_activation(self):\n",
        "        if self.max_layer == 1:\n",
        "            pass\n",
        "        else:\n",
        "            temp = self.nodes[randint(0, len(self.nodes) - 1)]\n",
        "            while temp.layer == 0 or temp.layer == self.max_layer:\n",
        "                temp = self.nodes[randint(0, len(self.nodes) - 1)]\n",
        "            temp.foo = random.choice(functions)\n",
        "\n",
        "    def predict(self, position, weight):\n",
        "        for star in range(64):\n",
        "            # print(len(self.nodes), len(position), star)\n",
        "            self.nodes[star].sum = position[star]\n",
        "\n",
        "        for layer in range(self.max_layer):\n",
        "            for node in self.nodes:\n",
        "                if node.layer == layer:\n",
        "                    node.run(weight)\n",
        "\n",
        "        result = []\n",
        "        counter = 0\n",
        "        for node in self.nodes:\n",
        "            if node.layer == self.max_layer:\n",
        "                result.append(node.sum)\n",
        "                counter += 1\n",
        "        return result"
      ],
      "execution_count": null,
      "outputs": []
    },
    {
      "cell_type": "code",
      "metadata": {
        "id": "Mzf1Mwi5KLFH"
      },
      "source": [
        "# pos = [1] * 64\n",
        "# b = Neyro()\n",
        "# for t in range(100):\n",
        "#     r = randint(1, 3)\n",
        "#     if r == 1:\n",
        "#         b.add_node()\n",
        "#     if r == 2:\n",
        "#         b.add_connection()\n",
        "#     if r == 3:\n",
        "#         b.change_activation()\n",
        "\n",
        "# print(b.predict(pos, 2))\n",
        "# print(len(b.nodes) - 128)\n",
        "# print(b.connections)\n",
        "\n",
        "# fig, ax = plt.subplots(1)\n",
        "# pos = 0\n",
        "\n",
        "# for layer in range(b.max_layer + 1):\n",
        "#     for node in b.nodes:\n",
        "#         if node.layer == layer:\n",
        "#             ax.scatter(layer, pos, c=colors[functions.index(node.foo)])\n",
        "#             node.pos = pos\n",
        "#             pos += 1\n",
        "#     pos = 0\n",
        "\n",
        "# for node in b.nodes:\n",
        "#     for one in node.next:\n",
        "#         ax.plot((node.layer, one.layer), (node.pos, one.pos), linewidth=0.2, color='blue')\n",
        "# # plt.figure(figsize=(32, 18))\n",
        "# plt.show()"
      ],
      "execution_count": null,
      "outputs": []
    },
    {
      "cell_type": "code",
      "metadata": {
        "id": "dzGZXMCIvlCJ"
      },
      "source": [
        "def line_to_array(pos):\n",
        "    position = (([0, 0, 0, 0], [0, 0, 0, 0], [0, 0, 0, 0], [0, 0, 0, 0]),\n",
        "                ([0, 0, 0, 0], [0, 0, 0, 0], [0, 0, 0, 0], [0, 0, 0, 0]),\n",
        "                ([0, 0, 0, 0], [0, 0, 0, 0], [0, 0, 0, 0], [0, 0, 0, 0]),\n",
        "                ([0, 0, 0, 0], [0, 0, 0, 0], [0, 0, 0, 0], [0, 0, 0, 0]))\n",
        "    \n",
        "    counter = 0\n",
        "\n",
        "    for k in range(4):\n",
        "        for i in range(4):\n",
        "            for j in range(4):\n",
        "                position[k][i][j] = pos[counter]\n",
        "                counter += 1\n",
        "                \n",
        "    return position"
      ],
      "execution_count": null,
      "outputs": []
    },
    {
      "cell_type": "code",
      "metadata": {
        "id": "2qqHoMXEqR2m"
      },
      "source": [
        "def check_win(pos):\n",
        "    if 0 not in pos:\n",
        "        return True\n",
        "\n",
        "    position = line_to_array(pos)\n",
        "    if ((position[0][0][0] == position[1][1][1] == position[2][2][2] == position[3][3][3] != 0)\n",
        "        | (position[3][0][0] == position[2][1][1] == position[1][2][2] == position[0][3][3] != 0)\n",
        "        | (position[0][0][3] == position[1][1][2] == position[2][2][1] == position[3][3][0] != 0)\n",
        "        | (position[0][3][0] == position[1][2][1] == position[2][1][2] == position[3][0][3] != 0)):\n",
        "        return True\n",
        "\n",
        "    for k in range(4):\n",
        "        for i in range(4):\n",
        "            for j in range(4):\n",
        "                if ((position[k][0][0] == position[k][1][1] == position[k][2][2] == position[k][3][3] != 0)\n",
        "                    | (position[k][3][0] == position[k][2][1] == position[k][1][2] == position[k][0][3] != 0)\n",
        "                    | (position[k][0][j] == position[k][1][j] == position[k][2][j] == position[k][3][j] != 0)\n",
        "                    | (position[k][i] == [1, 1, 1, 1]) | (position[k][i] == [-1, -1, -1, -1])\n",
        "                    | (position[0][i][j] == position[1][i][j] == position[2][i][j] == position[3][i][j] != 0)\n",
        "                    | (position[0][i][0] == position[1][i][1] == position[2][i][2] == position[3][i][3] != 0)\n",
        "                    | (position[3][i][0] == position[2][i][1] == position[1][i][2] == position[0][i][3] != 0)\n",
        "                    | (position[0][0][j] == position[1][1][j] == position[2][2][j] == position[3][3][j] != 0)\n",
        "                    | (position[3][0][j] == position[2][1][j] == position[1][2][j] == position[0][3][j] != 0)):\n",
        "                    return True\n",
        "\n",
        "    return False"
      ],
      "execution_count": null,
      "outputs": []
    },
    {
      "cell_type": "code",
      "metadata": {
        "id": "bpO-a8H8T19Y"
      },
      "source": [
        "pos = [0] * 64"
      ],
      "execution_count": null,
      "outputs": []
    },
    {
      "cell_type": "code",
      "metadata": {
        "colab": {
          "base_uri": "https://localhost:8080/"
        },
        "id": "joQZnS_WpyXv",
        "outputId": "24a575b7-3d09-4550-e77f-706a88896900"
      },
      "source": [
        "%%timeit\n",
        "check_win(pos)"
      ],
      "execution_count": null,
      "outputs": [
        {
          "output_type": "stream",
          "text": [
            "1000 loops, best of 5: 246 µs per loop\n"
          ],
          "name": "stdout"
        }
      ]
    },
    {
      "cell_type": "code",
      "metadata": {
        "id": "hB3T1STtojHv"
      },
      "source": [
        "def game(player1, player2, weight):\n",
        "    position = np.zeros(64, dtype=int)\n",
        "\n",
        "    \n",
        "    while not check_win(position):\n",
        "\n",
        "        # X - move\n",
        "        res1 = player1.predict(position, weight)\n",
        "        while position[np.argmax(res1)] != 0:\n",
        "            res1[np.argmax(res1)] = float('-inf')\n",
        "        position[np.argmax(res1)] = 1\n",
        "        if check_win(position): # player1 won\n",
        "            player1.score += 1000\n",
        "            player2.score -= 1000\n",
        "            return\n",
        "\n",
        "        # O - move\n",
        "        res2 = player2.predict((-1) * position, weight)\n",
        "        while position[np.argmax(res2)] != 0:\n",
        "            res2[np.argmax(res2)] = float('-inf')\n",
        "        position[np.argmax(res2)] = -1\n",
        "    \n",
        "    player2.score += 1000\n",
        "    player1.score -= 1000\n",
        "    return"
      ],
      "execution_count": null,
      "outputs": []
    },
    {
      "cell_type": "code",
      "metadata": {
        "colab": {
          "base_uri": "https://localhost:8080/"
        },
        "id": "hmNZv52XDlvZ",
        "outputId": "98b25f0d-31f8-4f91-a7a7-0c1367f40915"
      },
      "source": [
        "a = [float('-inf'), 1]\n",
        "b = absolute(a[0])\n",
        "np.argmax(a)"
      ],
      "execution_count": null,
      "outputs": [
        {
          "output_type": "execute_result",
          "data": {
            "text/plain": [
              "1"
            ]
          },
          "metadata": {
            "tags": []
          },
          "execution_count": 13
        }
      ]
    },
    {
      "cell_type": "code",
      "metadata": {
        "id": "WDW0wY5ylk8f"
      },
      "source": [
        "def game_with_comments(player1, player2, weight):\n",
        "    position = np.zeros(64, dtype=int)\n",
        "    \n",
        "    while not check_win(position):\n",
        "\n",
        "        # X - move\n",
        "        res1 = player1.predict(position, weight)\n",
        "        while position[np.argmax(res1)] != 0:\n",
        "            res1[np.argmax(res1)] = float('-inf')\n",
        "        position[np.argmax(res1)] = 1\n",
        "        print(\"X -\", np.argmax(res1))\n",
        "        if check_win(position): # player1 won\n",
        "            return\n",
        "\n",
        "        # O - move\n",
        "        res2 = player2.predict((-1) * position, weight)\n",
        "        while position[np.argmax(res2)] != 0:\n",
        "            res2[np.argmax(res2)] += float('-inf')\n",
        "        position[np.argmax(res2)] = -1\n",
        "        print(\"O -\", np.argmax(res2))\n",
        "    \n",
        "    return"
      ],
      "execution_count": null,
      "outputs": []
    },
    {
      "cell_type": "code",
      "metadata": {
        "id": "1-_FyY1F19Cu"
      },
      "source": [
        "def one_side_match(x_player, o_player):\n",
        "    # game(x_player, o_player, -2)\n",
        "    # game(x_player, o_player, -1)\n",
        "    # game(x_player, o_player, -0.5)\n",
        "    # game(x_player, o_player, 0.5)\n",
        "    game(x_player, o_player, 1)\n",
        "    # game(x_player, o_player, 2)"
      ],
      "execution_count": null,
      "outputs": []
    },
    {
      "cell_type": "code",
      "metadata": {
        "id": "HKUt9tc08TzH"
      },
      "source": [
        "def match(player1, player2):\n",
        "    player1.games_played += 1\n",
        "    player2.games_played += 1\n",
        "    one_side_match(player1, player2)\n",
        "    one_side_match(player2, player1)"
      ],
      "execution_count": null,
      "outputs": []
    },
    {
      "cell_type": "code",
      "metadata": {
        "id": "eMOa6IOlH8AU"
      },
      "source": [
        "def copy_array(array):\n",
        "    result = []\n",
        "    for one in array:\n",
        "        result.append(one)\n",
        "    return result"
      ],
      "execution_count": null,
      "outputs": []
    },
    {
      "cell_type": "code",
      "metadata": {
        "id": "t0uFGd0WCgoS"
      },
      "source": [
        "def tournament(players__):\n",
        "    players = copy_array(players__)\n",
        "    length = len(players)\n",
        "    counter = 0\n",
        "    while len(players) > length / 8:\n",
        "        if players[counter].score < players[-1 - counter].score:\n",
        "            players.remove(players[counter])\n",
        "        else:\n",
        "            players.remove(players[-1 - counter])\n",
        "        counter += 1\n",
        "    \n",
        "    return players"
      ],
      "execution_count": null,
      "outputs": []
    },
    {
      "cell_type": "code",
      "metadata": {
        "id": "rc5UUORHc4xY"
      },
      "source": [
        "def mutation(person):\n",
        "    person2 = copy.deepcopy(person)\n",
        "    random_shit = randint(1, 3)\n",
        "    if random_shit == 1:\n",
        "        person2.add_node()\n",
        "    if random_shit == 2:\n",
        "        person2.add_connection()\n",
        "    if random_shit == 3:\n",
        "        person2.change_activation()\n",
        "    return person2"
      ],
      "execution_count": null,
      "outputs": []
    },
    {
      "cell_type": "code",
      "metadata": {
        "id": "R9BH0UjP4V69"
      },
      "source": [
        "def one_iteration(players):\n",
        "    for one in players:\n",
        "        one.games_played = 0\n",
        "        one.score = one.connections\n",
        "\n",
        "    for one in players:\n",
        "        for i in range(10):\n",
        "            match(one, players[randint(0, population - 1)])\n",
        "\n",
        "    players = sorted(players, key=lambda individ: individ.score)\n",
        "    new_players = []\n",
        "    counter = 0\n",
        "    counter2 = 0\n",
        "    while True:\n",
        "        new_players.append(players[counter2])\n",
        "        counter += 1\n",
        "        for i in range(3):\n",
        "            new_players.append(mutation(players[counter2]))\n",
        "            counter += 1\n",
        "            if counter == population:\n",
        "                return new_players\n",
        "        counter2 += 1\n",
        "\n",
        "    return new_players"
      ],
      "execution_count": null,
      "outputs": []
    },
    {
      "cell_type": "code",
      "metadata": {
        "id": "tKYE4LKEmyxf"
      },
      "source": [
        "def draw(individ):\n",
        "    fig, ax = plt.subplots(1)\n",
        "    pos = 0\n",
        "\n",
        "    for layer in range(individ.max_layer + 1):\n",
        "        for node in individ.nodes:\n",
        "            if node.layer == layer:\n",
        "                ax.scatter(layer, pos, c=colors[functions.index(node.foo)])\n",
        "                node.pos = pos\n",
        "                pos += 1\n",
        "        pos = 0\n",
        "\n",
        "    for node in individ.nodes:\n",
        "        for one in node.next:\n",
        "            ax.plot((node.layer, one.layer), (node.pos, one.pos), linewidth=0.2, color='blue')\n",
        "    # plt.figure(figsize=(32, 18))\n",
        "    plt.show()"
      ],
      "execution_count": null,
      "outputs": []
    },
    {
      "cell_type": "code",
      "metadata": {
        "id": "YjJILTsHB5FM",
        "colab": {
          "base_uri": "https://localhost:8080/"
        },
        "outputId": "c7f87196-391f-405b-f55f-854e7649df04"
      },
      "source": [
        "population = 100\n",
        "iterations = 300\n",
        "\n",
        "boys = []\n",
        "for i in range(population):\n",
        "    boys.append(Neyro())\n",
        "\n",
        "# for one in boys:\n",
        "#     draw(one)\n",
        "\n",
        "\n",
        "for iteration in range(iterations):\n",
        "    print(\"ITERATION\", iteration, \"...\", len(boys))\n",
        "    boys = one_iteration(boys)\n",
        "\n",
        "game_with_comments(boys[0], boys[1], 1)"
      ],
      "execution_count": null,
      "outputs": [
        {
          "output_type": "stream",
          "text": [
            "ITERATION 0 ... 100\n",
            "ITERATION 1 ... 100\n",
            "ITERATION 2 ... 100\n",
            "ITERATION 3 ... 100\n"
          ],
          "name": "stdout"
        },
        {
          "output_type": "stream",
          "text": [
            "/usr/local/lib/python3.7/dist-packages/ipykernel_launcher.py:15: RuntimeWarning: overflow encountered in exp\n",
            "  from ipykernel import kernelapp as app\n"
          ],
          "name": "stderr"
        },
        {
          "output_type": "stream",
          "text": [
            "ITERATION 4 ... 100\n",
            "ITERATION 5 ... 100\n",
            "ITERATION 6 ... 100\n",
            "ITERATION 7 ... 100\n",
            "ITERATION 8 ... 100\n",
            "ITERATION 9 ... 100\n",
            "ITERATION 10 ... 100\n",
            "ITERATION 11 ... 100\n",
            "ITERATION 12 ... 100\n",
            "ITERATION 13 ... 100\n",
            "ITERATION 14 ... 100\n",
            "ITERATION 15 ... 100\n",
            "ITERATION 16 ... 100\n",
            "ITERATION 17 ... 100\n",
            "ITERATION 18 ... 100\n",
            "ITERATION 19 ... 100\n",
            "ITERATION 20 ... 100\n",
            "ITERATION 21 ... 100\n",
            "ITERATION 22 ... 100\n",
            "ITERATION 23 ... 100\n",
            "ITERATION 24 ... 100\n",
            "ITERATION 25 ... 100\n",
            "ITERATION 26 ... 100\n",
            "ITERATION 27 ... 100\n",
            "ITERATION 28 ... 100\n",
            "ITERATION 29 ... 100\n",
            "ITERATION 30 ... 100\n",
            "ITERATION 31 ... 100\n",
            "ITERATION 32 ... 100\n",
            "ITERATION 33 ... 100\n",
            "ITERATION 34 ... 100\n",
            "ITERATION 35 ... 100\n",
            "ITERATION 36 ... 100\n",
            "ITERATION 37 ... 100\n",
            "ITERATION 38 ... 100\n",
            "ITERATION 39 ... 100\n",
            "ITERATION 40 ... 100\n",
            "ITERATION 41 ... 100\n",
            "ITERATION 42 ... 100\n",
            "ITERATION 43 ... 100\n",
            "ITERATION 44 ... 100\n",
            "ITERATION 45 ... 100\n",
            "ITERATION 46 ... 100\n",
            "ITERATION 47 ... 100\n",
            "ITERATION 48 ... 100\n",
            "ITERATION 49 ... 100\n",
            "ITERATION 50 ... 100\n",
            "ITERATION 51 ... 100\n",
            "ITERATION 52 ... 100\n",
            "ITERATION 53 ... 100\n",
            "ITERATION 54 ... 100\n",
            "ITERATION 55 ... 100\n",
            "ITERATION 56 ... 100\n",
            "ITERATION 57 ... 100\n",
            "ITERATION 58 ... 100\n",
            "ITERATION 59 ... 100\n",
            "ITERATION 60 ... 100\n",
            "ITERATION 61 ... 100\n",
            "ITERATION 62 ... 100\n",
            "ITERATION 63 ... 100\n",
            "ITERATION 64 ... 100\n",
            "ITERATION 65 ... 100\n",
            "ITERATION 66 ... 100\n",
            "ITERATION 67 ... 100\n",
            "ITERATION 68 ... 100\n",
            "ITERATION 69 ... 100\n",
            "ITERATION 70 ... 100\n",
            "ITERATION 71 ... 100\n",
            "ITERATION 72 ... 100\n",
            "ITERATION 73 ... 100\n",
            "ITERATION 74 ... 100\n",
            "ITERATION 75 ... 100\n",
            "ITERATION 76 ... 100\n",
            "ITERATION 77 ... 100\n",
            "ITERATION 78 ... 100\n",
            "ITERATION 79 ... 100\n",
            "ITERATION 80 ... 100\n",
            "ITERATION 81 ... 100\n",
            "ITERATION 82 ... 100\n",
            "ITERATION 83 ... 100\n",
            "ITERATION 84 ... 100\n",
            "ITERATION 85 ... 100\n",
            "ITERATION 86 ... 100\n",
            "ITERATION 87 ... 100\n",
            "ITERATION 88 ... 100\n",
            "ITERATION 89 ... 100\n",
            "ITERATION 90 ... 100\n",
            "ITERATION 91 ... 100\n",
            "ITERATION 92 ... 100\n",
            "ITERATION 93 ... 100\n",
            "ITERATION 94 ... 100\n",
            "ITERATION 95 ... 100\n",
            "ITERATION 96 ... 100\n",
            "ITERATION 97 ... 100\n",
            "ITERATION 98 ... 100\n",
            "ITERATION 99 ... 100\n",
            "ITERATION 100 ... 100\n",
            "ITERATION 101 ... 100\n",
            "ITERATION 102 ... 100\n",
            "ITERATION 103 ... 100\n",
            "ITERATION 104 ... 100\n",
            "ITERATION 105 ... 100\n",
            "ITERATION 106 ... 100\n",
            "ITERATION 107 ... 100\n",
            "ITERATION 108 ... 100\n",
            "ITERATION 109 ... 100\n",
            "ITERATION 110 ... 100\n",
            "ITERATION 111 ... 100\n",
            "ITERATION 112 ... 100\n",
            "ITERATION 113 ... 100\n",
            "ITERATION 114 ... 100\n",
            "ITERATION 115 ... 100\n",
            "ITERATION 116 ... 100\n",
            "ITERATION 117 ... 100\n",
            "ITERATION 118 ... 100\n",
            "ITERATION 119 ... 100\n",
            "ITERATION 120 ... 100\n",
            "ITERATION 121 ... 100\n",
            "ITERATION 122 ... 100\n",
            "ITERATION 123 ... 100\n",
            "ITERATION 124 ... 100\n",
            "ITERATION 125 ... 100\n",
            "ITERATION 126 ... 100\n",
            "ITERATION 127 ... 100\n",
            "ITERATION 128 ... 100\n",
            "ITERATION 129 ... 100\n",
            "ITERATION 130 ... 100\n",
            "ITERATION 131 ... 100\n",
            "ITERATION 132 ... 100\n",
            "ITERATION 133 ... 100\n",
            "ITERATION 134 ... 100\n",
            "ITERATION 135 ... 100\n",
            "ITERATION 136 ... 100\n",
            "ITERATION 137 ... 100\n",
            "ITERATION 138 ... 100\n",
            "ITERATION 139 ... 100\n",
            "ITERATION 140 ... 100\n",
            "ITERATION 141 ... 100\n",
            "ITERATION 142 ... 100\n",
            "ITERATION 143 ... 100\n",
            "ITERATION 144 ... 100\n",
            "ITERATION 145 ... 100\n",
            "ITERATION 146 ... 100\n",
            "ITERATION 147 ... 100\n",
            "ITERATION 148 ... 100\n",
            "ITERATION 149 ... 100\n",
            "ITERATION 150 ... 100\n",
            "ITERATION 151 ... 100\n",
            "ITERATION 152 ... 100\n",
            "ITERATION 153 ... 100\n",
            "ITERATION 154 ... 100\n",
            "ITERATION 155 ... 100\n",
            "ITERATION 156 ... 100\n",
            "ITERATION 157 ... 100\n",
            "ITERATION 158 ... 100\n",
            "ITERATION 159 ... 100\n",
            "ITERATION 160 ... 100\n",
            "ITERATION 161 ... 100\n",
            "ITERATION 162 ... 100\n",
            "ITERATION 163 ... 100\n",
            "ITERATION 164 ... 100\n",
            "ITERATION 165 ... 100\n",
            "ITERATION 166 ... 100\n",
            "ITERATION 167 ... 100\n",
            "ITERATION 168 ... 100\n",
            "ITERATION 169 ... 100\n",
            "ITERATION 170 ... 100\n",
            "ITERATION 171 ... 100\n",
            "ITERATION 172 ... 100\n",
            "ITERATION 173 ... 100\n",
            "ITERATION 174 ... 100\n",
            "ITERATION 175 ... 100\n",
            "ITERATION 176 ... 100\n",
            "ITERATION 177 ... 100\n",
            "ITERATION 178 ... 100\n",
            "ITERATION 179 ... 100\n",
            "ITERATION 180 ... 100\n",
            "ITERATION 181 ... 100\n",
            "ITERATION 182 ... 100\n",
            "ITERATION 183 ... 100\n",
            "ITERATION 184 ... 100\n",
            "ITERATION 185 ... 100\n",
            "ITERATION 186 ... 100\n",
            "ITERATION 187 ... 100\n",
            "ITERATION 188 ... 100\n",
            "ITERATION 189 ... 100\n",
            "ITERATION 190 ... 100\n",
            "ITERATION 191 ... 100\n",
            "ITERATION 192 ... 100\n",
            "ITERATION 193 ... 100\n",
            "ITERATION 194 ... 100\n",
            "ITERATION 195 ... 100\n",
            "ITERATION 196 ... 100\n",
            "ITERATION 197 ... 100\n",
            "ITERATION 198 ... 100\n",
            "ITERATION 199 ... 100\n",
            "ITERATION 200 ... 100\n",
            "ITERATION 201 ... 100\n",
            "ITERATION 202 ... 100\n",
            "ITERATION 203 ... 100\n",
            "ITERATION 204 ... 100\n",
            "ITERATION 205 ... 100\n",
            "ITERATION 206 ... 100\n",
            "ITERATION 207 ... 100\n",
            "ITERATION 208 ... 100\n",
            "ITERATION 209 ... 100\n",
            "ITERATION 210 ... 100\n",
            "ITERATION 211 ... 100\n",
            "ITERATION 212 ... 100\n",
            "ITERATION 213 ... 100\n",
            "ITERATION 214 ... 100\n",
            "ITERATION 215 ... 100\n",
            "ITERATION 216 ... 100\n",
            "ITERATION 217 ... 100\n",
            "ITERATION 218 ... 100\n",
            "ITERATION 219 ... 100\n",
            "ITERATION 220 ... 100\n",
            "ITERATION 221 ... 100\n",
            "ITERATION 222 ... 100\n",
            "ITERATION 223 ... 100\n",
            "ITERATION 224 ... 100\n",
            "ITERATION 225 ... 100\n",
            "ITERATION 226 ... 100\n",
            "ITERATION 227 ... 100\n",
            "ITERATION 228 ... 100\n",
            "ITERATION 229 ... 100\n",
            "ITERATION 230 ... 100\n",
            "ITERATION 231 ... 100\n",
            "ITERATION 232 ... 100\n",
            "ITERATION 233 ... 100\n",
            "ITERATION 234 ... 100\n",
            "ITERATION 235 ... 100\n",
            "ITERATION 236 ... 100\n",
            "ITERATION 237 ... 100\n",
            "ITERATION 238 ... 100\n",
            "ITERATION 239 ... 100\n",
            "ITERATION 240 ... 100\n",
            "ITERATION 241 ... 100\n",
            "ITERATION 242 ... 100\n",
            "ITERATION 243 ... 100\n",
            "ITERATION 244 ... 100\n",
            "ITERATION 245 ... 100\n",
            "ITERATION 246 ... 100\n",
            "ITERATION 247 ... 100\n",
            "ITERATION 248 ... 100\n"
          ],
          "name": "stdout"
        }
      ]
    },
    {
      "cell_type": "code",
      "metadata": {
        "id": "8_QOWSYOuxpo"
      },
      "source": [
        "for one in boys:\n",
        "    draw(one)"
      ],
      "execution_count": null,
      "outputs": []
    },
    {
      "cell_type": "code",
      "metadata": {
        "id": "J2SKObzcrcfM"
      },
      "source": [
        ""
      ],
      "execution_count": null,
      "outputs": []
    }
  ]
}